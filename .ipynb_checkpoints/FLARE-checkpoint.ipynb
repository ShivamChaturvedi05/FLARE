{
 "cells": [
  {
   "cell_type": "code",
   "execution_count": 1,
   "id": "8a15dcbf-d329-4394-8b3f-3a860fe932eb",
   "metadata": {},
   "outputs": [
    {
     "name": "stdout",
     "output_type": "stream",
     "text": [
      "All libraries imported successfully.\n"
     ]
    }
   ],
   "source": [
    "import numpy as np\n",
    "import matplotlib.pyplot as plt\n",
    "\n",
    "from astropy.io import fits\n",
    "from astropy.stats import sigma_clipped_stats\n",
    "\n",
    "from sklearn.preprocessing import RobustScaler\n",
    "from sklearn.preprocessing import StandardScaler\n",
    "import cv2\n",
    "\n",
    "from sklearn.model_selection import train_test_split\n",
    "from sklearn.metrics import classification_report, roc_auc_score, precision_recall_curve, auc\n",
    "from sklearn.utils import class_weight\n",
    "\n",
    "from sklearn.decomposition import PCA\n",
    "from sklearn.linear_model import LogisticRegression\n",
    "from sklearn.ensemble import RandomForestClassifier\n",
    "\n",
    "import tensorflow as tf\n",
    "from tensorflow.keras import layers, models\n",
    "from tensorflow.keras.applications import ResNet50\n",
    "\n",
    "print(\"All libraries imported successfully.\")"
   ]
  },
  {
   "cell_type": "code",
   "execution_count": 2,
   "id": "fb682cc0-7258-4907-90d9-8ea8feea2941",
   "metadata": {},
   "outputs": [
    {
     "name": "stdout",
     "output_type": "stream",
     "text": [
      "Preprocessing functions defined.\n"
     ]
    }
   ],
   "source": [
    "def load_fits_image(filepath):\n",
    "    try:\n",
    "        with fits.open(filepath) as hdul:\n",
    "            image_data = hdul[0].data\n",
    "            header = hdul[0].header\n",
    "            \n",
    "            if image_data is not None:\n",
    "                image_data = image_data.astype(np.float32)\n",
    "            return image_data, header\n",
    "    except Exception as e:\n",
    "        print(f\"Error loading FITS file {filepath}: {e}\")\n",
    "        return None, None\n",
    "\n",
    "def subtract_background(image_data):\n",
    "    if image_data is None:\n",
    "        return None\n",
    "    mean, median_bkg, stddev = sigma_clipped_stats(image_data, sigma=3.0)\n",
    "    return image_data - median_bkg\n",
    "\n",
    "def robust_scale_image(image_data):\n",
    "    if image_data is None:\n",
    "        return None\n",
    "    scaler = RobustScaler()\n",
    "    \n",
    "    pixels = image_data.flatten().reshape(-1, 1)\n",
    "    \n",
    "    scaled_pixels = scaler.fit_transform(pixels)\n",
    "    \n",
    "    return scaled_pixels.reshape(image_data.shape)\n",
    "\n",
    "def resize_image(image_data, target_size=(64, 64)):\n",
    "    if image_data is None:\n",
    "        return None\n",
    "    return cv2.resize(image_data, target_size, interpolation=cv2.INTER_AREA)\n",
    "\n",
    "print(\"Preprocessing functions defined.\")"
   ]
  },
  {
   "cell_type": "code",
   "execution_count": 3,
   "id": "d549ccde-037c-4605-b637-1c11a2b4e471",
   "metadata": {},
   "outputs": [
    {
     "name": "stdout",
     "output_type": "stream",
     "text": [
      "Data augmentation pipeline defined.\n"
     ]
    }
   ],
   "source": [
    "# Define a sequential model for data augmentation\n",
    "data_augmentation_pipeline = tf.keras.Sequential([\n",
    "    layers.RandomFlip(\"horizontal_and_vertical\"),  # Randomly flip images horizontally and vertically\n",
    "    layers.RandomRotation(0.5),  # Corresponds to 180 degrees\n",
    "    # Small translations and gaussian noise can also be added here\n",
    "], name=\"data_augmentation\")\n",
    "\n",
    "print(\"Data augmentation pipeline defined.\")\n"
   ]
  },
  {
   "cell_type": "code",
   "execution_count": 1,
   "id": "0b1b088b-ad64-4bac-97c1-b67f31a68d47",
   "metadata": {},
   "outputs": [
    {
     "name": "stdout",
     "output_type": "stream",
     "text": [
      "[]\n"
     ]
    }
   ],
   "source": [
    "import tensorflow as tf\n",
    "print(tf.config.list_physical_devices('GPU'))\n",
    "\n"
   ]
  },
  {
   "cell_type": "code",
   "execution_count": 3,
   "id": "c1ecdd4d-3750-4e59-a599-da4842e28906",
   "metadata": {},
   "outputs": [
    {
     "name": "stdout",
     "output_type": "stream",
     "text": [
      "[]\n"
     ]
    }
   ],
   "source": [
    "import tensorflow as tf\n",
    "print(tf.config.list_physical_devices('GPU'))\n"
   ]
  },
  {
   "cell_type": "code",
   "execution_count": 2,
   "id": "963532fe-8674-4e41-967b-4495fdc0c96c",
   "metadata": {},
   "outputs": [
    {
     "name": "stdout",
     "output_type": "stream",
     "text": [
      "TensorFlow version: 2.20.0\n",
      "CUDA version: None\n",
      "cuDNN version: None\n"
     ]
    }
   ],
   "source": [
    "import tensorflow as tf\n",
    "from tensorflow.python.platform import build_info as tf_build_info\n",
    "\n",
    "print(\"TensorFlow version:\", tf.__version__)\n",
    "print(\"CUDA version:\", tf_build_info.build_info.get('cuda_version'))\n",
    "print(\"cuDNN version:\", tf_build_info.build_info.get('cudnn_version'))\n"
   ]
  },
  {
   "cell_type": "code",
   "execution_count": null,
   "id": "15cd7a8c-9423-4456-bf64-407262758d1a",
   "metadata": {},
   "outputs": [],
   "source": []
  }
 ],
 "metadata": {
  "kernelspec": {
   "display_name": "Python 3 (ipykernel)",
   "language": "python",
   "name": "python3"
  },
  "language_info": {
   "codemirror_mode": {
    "name": "ipython",
    "version": 3
   },
   "file_extension": ".py",
   "mimetype": "text/x-python",
   "name": "python",
   "nbconvert_exporter": "python",
   "pygments_lexer": "ipython3",
   "version": "3.12.7"
  }
 },
 "nbformat": 4,
 "nbformat_minor": 5
}
