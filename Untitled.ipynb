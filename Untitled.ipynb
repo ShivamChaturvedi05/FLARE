{
 "cells": [
  {
   "cell_type": "code",
   "execution_count": 1,
   "id": "d920a151-c0a9-48d6-9d2f-6d124bc96f31",
   "metadata": {},
   "outputs": [
    {
     "name": "stdout",
     "output_type": "stream",
     "text": [
      "[]\n"
     ]
    }
   ],
   "source": [
    "import tensorflow as tf\n",
    "print(tf.config.list_physical_devices('GPU'))\n",
    "\n"
   ]
  },
  {
   "cell_type": "code",
   "execution_count": 2,
   "id": "32612a16-8e23-4df0-95a6-c8df51063475",
   "metadata": {},
   "outputs": [
    {
     "name": "stdout",
     "output_type": "stream",
     "text": [
      "Writing .gitignore\n"
     ]
    }
   ],
   "source": [
    "%%writefile .gitignore\n",
    "# Ignore the large dataset folder\n",
    "dataset/\n",
    "\n",
    "# Ignore Python cache files\n",
    "__pycache__/\n",
    "*.pyc"
   ]
  },
  {
   "cell_type": "code",
   "execution_count": null,
   "id": "ba136524-b39e-4d8b-8a8c-bd6640d1dd1a",
   "metadata": {},
   "outputs": [],
   "source": []
  }
 ],
 "metadata": {
  "kernelspec": {
   "display_name": "Python 3 (ipykernel)",
   "language": "python",
   "name": "python3"
  },
  "language_info": {
   "codemirror_mode": {
    "name": "ipython",
    "version": 3
   },
   "file_extension": ".py",
   "mimetype": "text/x-python",
   "name": "python",
   "nbconvert_exporter": "python",
   "pygments_lexer": "ipython3",
   "version": "3.12.7"
  }
 },
 "nbformat": 4,
 "nbformat_minor": 5
}
